{
 "cells": [
  {
   "cell_type": "code",
   "execution_count": 18,
   "id": "8e1ea496",
   "metadata": {
    "scrolled": true
   },
   "outputs": [],
   "source": [
    "from main_SMNN import *\n",
    "import matplotlib.pyplot as plt"
   ]
  },
  {
   "cell_type": "code",
   "execution_count": 19,
   "id": "1fe31c6a",
   "metadata": {},
   "outputs": [],
   "source": [
    "X,y = np.array([[1,1],[1.5,1.5],[2.5,2.5],[3,3],[1,3],[1.5,2.5],[2.5,1.5],[3,1]]), np.array([0,0,0,0,1,1,1,1])\n",
    "\n",
    "X_centered = X-X.mean()\n",
    "X_scaled = (X_centered-X_centered.min())/(X_centered.max()-X_centered.min())\n",
    "X_train=X_scaled\n",
    "y_train=y\n",
    "#X_train,X_test,y_train,y_test = train_test_split(X_scaled,y,test_size=0.2)"
   ]
  },
  {
   "cell_type": "code",
   "execution_count": 20,
   "id": "67121eea",
   "metadata": {},
   "outputs": [
    {
     "data": {
      "text/plain": [
       "array([[0.  , 0.  ],\n",
       "       [0.25, 0.25],\n",
       "       [0.75, 0.75],\n",
       "       [1.  , 1.  ],\n",
       "       [0.  , 1.  ],\n",
       "       [0.25, 0.75],\n",
       "       [0.75, 0.25],\n",
       "       [1.  , 0.  ]])"
      ]
     },
     "execution_count": 20,
     "metadata": {},
     "output_type": "execute_result"
    }
   ],
   "source": [
    "X_scaled"
   ]
  },
  {
   "cell_type": "code",
   "execution_count": 21,
   "id": "9238afef",
   "metadata": {},
   "outputs": [
    {
     "data": {
      "image/png": "[encoded data removed]",
      "text/plain": [
       "<Figure size 1000x600 with 2 Axes>"
      ]
     },
     "metadata": {},
     "output_type": "display_data"
    }
   ],
   "source": [
    "plt.rcParams[\"figure.figsize\"] = (10,6)\n",
    "plt.subplot(2,2,1)\n",
    "plt.scatter(X[:,0],X[:,1],c=y,s=10)\n",
    "plt.grid()\n",
    "plt.subplot(2,2,3)\n",
    "plt.plot(V(2)[:,0],V(2)[:,1],'.')\n",
    "t1 = plt.Polygon(V(2),edgecolor=\"blue\",facecolor=\"none\")\n",
    "plt.gca().add_patch(t1)\n",
    "plt.scatter(X_train[:,0],X_train[:,1],c=y_train,s=10)\n",
    "plt.grid()"
   ]
  },
  {
   "cell_type": "code",
   "execution_count": 22,
   "id": "ef1eb459",
   "metadata": {},
   "outputs": [],
   "source": [
    "bar_iterations=3\n",
    "dim=2\n",
    "dic_sups = dic_supports(supports(bar_iterations,dim))\n",
    "sups = supports(bar_iterations,dim)\n",
    "data = X_train\n",
    "d=itek_barycentrics(data,bar_iterations)\n",
    "bis = [bis_cons(d,ite,dim) for ite in range(bar_iterations+1)]"
   ]
  },
  {
   "cell_type": "code",
   "execution_count": 23,
   "id": "5206df19",
   "metadata": {},
   "outputs": [
    {
     "data": {
      "text/plain": [
       "array([[ 1. ,  0. ,  0. ],\n",
       "       [-0.5,  0.5,  0. ],\n",
       "       [-0.5,  0. ,  0.5]])"
      ]
     },
     "execution_count": 23,
     "metadata": {},
     "output_type": "execute_result"
    }
   ],
   "source": [
    "M(2)"
   ]
  },
  {
   "cell_type": "code",
   "execution_count": 24,
   "id": "715fb1a0",
   "metadata": {},
   "outputs": [
    {
     "data": {
      "text/plain": [
       "array([[1.   , 0.   , 0.   ],\n",
       "       [0.75 , 0.125, 0.125],\n",
       "       [0.25 , 0.375, 0.375],\n",
       "       [0.   , 0.5  , 0.5  ],\n",
       "       [0.5  , 0.   , 0.5  ],\n",
       "       [0.5  , 0.125, 0.375],\n",
       "       [0.5  , 0.375, 0.125],\n",
       "       [0.5  , 0.5  , 0.   ]])"
      ]
     },
     "execution_count": 24,
     "metadata": {},
     "output_type": "execute_result"
    }
   ],
   "source": [
    "bis[0]"
   ]
  },
  {
   "cell_type": "code",
   "execution_count": null,
   "id": "afc03016",
   "metadata": {},
   "outputs": [
    {
     "name": "stdout",
     "output_type": "stream",
     "text": [
      "Training neural network...\n"
     ]
    }
   ],
   "source": [
    "n_samples = len(X_train)\n",
    "\n",
    "n_classes = len(set(y_train))\n",
    "y_hot=tf.one_hot(y_train,depth=n_classes)\n",
    "y_hot=np.array(y_hot)\n",
    "\n",
    "\n",
    "verbose = False\n",
    "epochs = 1000\n",
    "model0,history0=SMNN(bis[0],y_train,epochs,verbose =verbose)\n",
    "print(model0.evaluate(bis[0],y_hot))\n",
    "plt.plot(history0.history['loss'])\n",
    "#plt.show()\n",
    "vsi = [bis_cons(itek_barycentrics(sups[i],i),i,dim) for i in range(bar_iterations)]\n",
    "vs0 = np.matmul(vsi[0],model0.get_weights())\n",
    "weights0=vs0 #np.matmul(P(2),model0.get_weights())#vs0\n",
    "\n",
    "\n",
    "model1,history1=SMNN(bis[1],y_train,epochs,weights0,verbose =verbose)\n",
    "print(model1.evaluate(bis[1],y_hot))\n",
    "\n",
    "#plt.show()\n",
    "vs1=np.matmul(vsi[1],model1.get_weights())\n",
    "weights1=vs1\n",
    "\n",
    "model2,history2=SMNN(bis[2],y_train,epochs,weights1,verbose =verbose)\n",
    "print(model2.evaluate(bis[2],y_hot))\n",
    "\n",
    "vs2=np.matmul(vsi[2],model2.get_weights())\n",
    "weights2=vs2\n",
    "\n",
    "model3,history3=SMNN(bis[3],y_train,epochs,weights2,verbose =verbose)\n",
    "print(model3.evaluate(bis[3],y_hot))\n"
   ]
  },
  {
   "cell_type": "code",
   "execution_count": null,
   "id": "dfe63034",
   "metadata": {},
   "outputs": [],
   "source": [
    "plt.plot(history0.history['loss'])\n",
    "plt.plot(range(epochs,2*epochs),history1.history['loss'])\n",
    "plt.plot(range(2*epochs,3*epochs),history2.history['loss'])\n",
    "plt.plot(range(3*epochs,4*epochs),history3.history['loss'])\n",
    "plt.legend([\"model0\",\"model1\",\"model2\",\"model3\"])\n",
    "plt.title(\"Loss\")\n",
    "plt.show()\n",
    "\n",
    "\n",
    "plt.plot(history0.history['accuracy'])\n",
    "plt.plot(range(epochs,2*epochs),history1.history['accuracy'])\n",
    "plt.plot(range(2*epochs,3*epochs),history2.history['accuracy'])\n",
    "plt.plot(range(3*epochs,4*epochs),history3.history['accuracy'])\n",
    "plt.legend([\"model0\",\"model1\",\"model2\",\"model3\"])\n",
    "plt.title(\"Accuracy\")\n",
    "plt.show()\n"
   ]
  },
  {
   "cell_type": "code",
   "execution_count": null,
   "id": "80dba127",
   "metadata": {},
   "outputs": [],
   "source": [
    "xs = np.linspace(0,2,500)\n",
    "grid = []\n",
    "for x in xs:\n",
    "    for y in xs:\n",
    "        if x+y<2:\n",
    "            grid.append([x,y])\n",
    "d_grid=itek_barycentrics(grid,bar_iterations)\n",
    "bis_grid = [bis_cons(d_grid,ite,dim) for ite in range(bar_iterations+1)]"
   ]
  },
  {
   "cell_type": "code",
   "execution_count": null,
   "id": "558f9289",
   "metadata": {},
   "outputs": [],
   "source": [
    "predicted_labels_0=[np.argmax(x) for x in model0.predict(bis_grid[0])]\n",
    "predicted_labels_1=[np.argmax(x) for x in model1.predict(bis_grid[1])]\n",
    "predicted_labels_2=[np.argmax(x) for x in model2.predict(bis_grid[2])]\n",
    "predicted_labels_3=[np.argmax(x) for x in model3.predict(bis_grid[3])]"
   ]
  },
  {
   "cell_type": "code",
   "execution_count": null,
   "id": "0d8ede1b",
   "metadata": {},
   "outputs": [],
   "source": [
    "grid = np.array(grid)\n",
    "plt.rcParams[\"figure.figsize\"] = (10,6)\n",
    "plt.subplot(3,2,1)\n",
    "plt.plot(V(2)[:,0],V(2)[:,1],'.')\n",
    "t1 = plt.Polygon(V(2),edgecolor=\"blue\",facecolor=\"none\")\n",
    "plt.gca().add_patch(t1)\n",
    "plt.scatter(X_train[:,0],X_train[:,1],c=y_train,s=10)\n",
    "plt.grid()\n",
    "plt.subplot(3,2,2)\n",
    "plt.plot(V(2)[:,0],V(2)[:,1],'.')\n",
    "t1 = plt.Polygon(V(2),edgecolor=\"blue\",facecolor=\"none\")\n",
    "plt.gca().add_patch(t1)\n",
    "plt.scatter(grid[:,0],grid[:,1],c=predicted_labels_0,s=1)\n",
    "plt.grid()\n",
    "plt.subplot(3,2,3)\n",
    "plt.plot(V(2)[:,0],V(2)[:,1],'.')\n",
    "t1 = plt.Polygon(V(2),edgecolor=\"blue\",facecolor=\"none\")\n",
    "plt.gca().add_patch(t1)\n",
    "plt.scatter(grid[:,0],grid[:,1],c=predicted_labels_1,s=1)\n",
    "plt.grid()\n",
    "plt.subplot(3,2,4)\n",
    "plt.plot(V(2)[:,0],V(2)[:,1],'.')\n",
    "t1 = plt.Polygon(V(2),edgecolor=\"blue\",facecolor=\"none\")\n",
    "plt.gca().add_patch(t1)\n",
    "plt.scatter(grid[:,0],grid[:,1],c=predicted_labels_2,s=1)\n",
    "plt.grid()\n",
    "plt.subplot(3,2,5)\n",
    "plt.plot(V(2)[:,0],V(2)[:,1],'.')\n",
    "t1 = plt.Polygon(V(2),edgecolor=\"blue\",facecolor=\"none\")\n",
    "plt.gca().add_patch(t1)\n",
    "plt.scatter(grid[:,0],grid[:,1],c=predicted_labels_3,s=1)\n",
    "plt.grid()"
   ]
  },
  {
   "cell_type": "code",
   "execution_count": null,
   "id": "bd6bbccd",
   "metadata": {},
   "outputs": [],
   "source": []
  }
 ],
 "metadata": {
  "kernelspec": {
   "display_name": "Python 3 (ipykernel)",
   "language": "python",
   "name": "python3"
  },
  "language_info": {
   "codemirror_mode": {
    "name": "ipython",
    "version": 3
   },
   "file_extension": ".py",
   "mimetype": "text/x-python",
   "name": "python",
   "nbconvert_exporter": "python",
   "pygments_lexer": "ipython3",
   "version": "3.8.15"
  }
 },
 "nbformat": 4,
 "nbformat_minor": 5
}
