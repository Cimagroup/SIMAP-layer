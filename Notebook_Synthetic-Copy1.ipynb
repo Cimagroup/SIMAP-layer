{
 "cells": [
  {
   "cell_type": "code",
   "execution_count": 2,
   "id": "fdfa3a7a",
   "metadata": {
    "scrolled": true
   },
   "outputs": [],
   "source": [
    "from main_SMNN import *\n",
    "from sklearn import datasets\n",
    "from sklearn import preprocessing\n",
    "from sklearn.model_selection import train_test_split\n",
    "import matplotlib.pyplot as plt"
   ]
  },
  {
   "cell_type": "code",
   "execution_count": 25,
   "id": "452e0c1f",
   "metadata": {
    "scrolled": true
   },
   "outputs": [
    {
     "name": "stdout",
     "output_type": "stream",
     "text": [
      "Repetition  1  of  1\n",
      "Dataset with  2  features.\n",
      "Training neural network...\n",
      "13/13 [==============================] - 0s 1ms/step - loss: 0.3225 - accuracy: 0.8700\n",
      "[0.32251498103141785, 0.8700000047683716]\n",
      "Training neural network...\n",
      "13/13 [==============================] - 0s 1ms/step - loss: 0.2889 - accuracy: 0.8975\n",
      "[0.28886958956718445, 0.8974999785423279]\n",
      "Training neural network...\n",
      "13/13 [==============================] - 0s 1ms/step - loss: 0.2594 - accuracy: 0.9075\n",
      "[0.25939714908599854, 0.9075000286102295]\n",
      "Evaluation on test\n",
      "Model 0\n",
      "4/4 [==============================] - 0s 2ms/step - loss: 0.4041 - accuracy: 0.8400\n",
      "Model 1\n",
      "4/4 [==============================] - 0s 2ms/step - loss: 0.3932 - accuracy: 0.8400\n",
      "Model 2\n",
      "4/4 [==============================] - 0s 2ms/step - loss: 0.3832 - accuracy: 0.8400\n",
      "---------------\n",
      "\n",
      "Repetition  1  of  1\n",
      "Dataset with  3  features.\n",
      "Training neural network...\n",
      "13/13 [==============================] - 0s 1ms/step - loss: 0.3764 - accuracy: 0.8775\n",
      "[0.37641990184783936, 0.8774999976158142]\n",
      "Training neural network...\n",
      "13/13 [==============================] - 0s 1ms/step - loss: 0.3115 - accuracy: 0.8800\n",
      "[0.3114721477031708, 0.8799999952316284]\n",
      "Training neural network...\n",
      "13/13 [==============================] - 0s 1ms/step - loss: 0.2426 - accuracy: 0.8900\n",
      "[0.24260881543159485, 0.8899999856948853]\n",
      "Evaluation on test\n",
      "Model 0\n",
      "4/4 [==============================] - 0s 2ms/step - loss: 0.3851 - accuracy: 0.8900\n",
      "Model 1\n",
      "4/4 [==============================] - 0s 2ms/step - loss: 0.3472 - accuracy: 0.8900\n",
      "Model 2\n",
      "4/4 [==============================] - 0s 2ms/step - loss: 0.2426 - accuracy: 0.8800\n",
      "---------------\n",
      "\n",
      "Repetition  1  of  1\n",
      "Dataset with  4  features.\n",
      "Training neural network...\n",
      "13/13 [==============================] - 0s 1ms/step - loss: 0.2640 - accuracy: 0.9000\n",
      "[0.26400530338287354, 0.8999999761581421]\n",
      "Training neural network...\n",
      "13/13 [==============================] - 0s 1ms/step - loss: 0.1917 - accuracy: 0.9175\n",
      "[0.19165298342704773, 0.9175000190734863]\n",
      "Training neural network...\n",
      "13/13 [==============================] - 0s 1ms/step - loss: 0.0825 - accuracy: 0.9775\n",
      "[0.08246241509914398, 0.9775000214576721]\n",
      "Evaluation on test\n",
      "Model 0\n",
      "4/4 [==============================] - 0s 2ms/step - loss: 0.3532 - accuracy: 0.8900\n",
      "Model 1\n",
      "4/4 [==============================] - 0s 2ms/step - loss: 0.4325 - accuracy: 0.8700\n",
      "Model 2\n",
      "4/4 [==============================] - 0s 2ms/step - loss: 0.7546 - accuracy: 0.8700\n",
      "---------------\n",
      "\n"
     ]
    },
    {
     "data": {
      "image/png": "[encoded data removed]",
      "text/plain": [
       "<Figure size 640x480 with 1 Axes>"
      ]
     },
     "metadata": {},
     "output_type": "display_data"
    }
   ],
   "source": [
    "n_features = [2,3,4]\n",
    "size = 500 # number of points\n",
    "n_classes = 2 # binary classification\n",
    "results = dict()\n",
    "epochs=1000\n",
    "n_rep=1\n",
    "metrics_a = []\n",
    "metrics_l = []\n",
    "for n in n_features:\n",
    "    metrics0_l = []\n",
    "    metrics1_l = []\n",
    "    metrics2_l = []\n",
    "    metrics0_a = []\n",
    "    metrics1_a = []\n",
    "    metrics2_a = []\n",
    "    X,y=datasets.make_classification(size, n_features=n, n_redundant=0,n_classes=n_classes,n_informative=2,class_sep=0.8)\n",
    "    X_centered = X-X.mean()\n",
    "    X_scaled = (n/2)*(X_centered-X_centered.min())/(X_centered.max()-X_centered.min())\n",
    "    X_train,X_test,y_train,y_test = train_test_split(X_scaled,y,test_size=0.2)\n",
    "    bar_iterations=2\n",
    "    dim=n\n",
    "    dic_sups = dic_supports(supports(bar_iterations,dim))\n",
    "    sups = supports(bar_iterations,dim)\n",
    "    data = X_train\n",
    "    d=itek_barycentrics(data,bar_iterations)\n",
    "    bis = [bis_cons(d,ite,dim) for ite in range(bar_iterations+1)]\n",
    "    n_samples = len(X_train)\n",
    "\n",
    "    n_classes = len(set(y_train))\n",
    "    y_hot=tf.one_hot(y_train,depth=n_classes)\n",
    "    y_hot=np.array(y_hot)\n",
    "\n",
    "    for j in range(n_rep):\n",
    "        print(\"Repetition \",j+1,\" of \", n_rep)\n",
    "        print(\"Dataset with \", n, \" features.\")\n",
    "        \n",
    "\n",
    "        verbose = False\n",
    "        epochs = 1000\n",
    "        model0,history0=SMNN(bis[0],y_train,epochs,verbose =verbose)\n",
    "        print(model0.evaluate(bis[0],y_hot))\n",
    "        plt.plot(history0.history['loss'])\n",
    "        #plt.show()\n",
    "        vsi = [bis_cons(itek_barycentrics(sups[i],i),i,dim) for i in range(bar_iterations)]\n",
    "        vs0 = np.matmul(vsi[0],model0.get_weights())\n",
    "        weights0=vs0 #np.matmul(P(2),model0.get_weights())#vs0\n",
    "\n",
    "\n",
    "        model1,history1=SMNN(bis[1],y_train,epochs,weights0,verbose =verbose)\n",
    "        print(model1.evaluate(bis[1],y_hot))\n",
    "\n",
    "        #plt.show()\n",
    "        vs1=np.matmul(vsi[1],model1.get_weights())\n",
    "        weights1=vs1\n",
    "\n",
    "        model2,history2=SMNN(bis[2],y_train,epochs,weights1,verbose =verbose)\n",
    "        print(model2.evaluate(bis[2],y_hot))\n",
    "\n",
    "        #vs2=np.matmul(vsi[2],model2.get_weights())\n",
    "        #weights2=vs2\n",
    "\n",
    "        #model3,history3=SMNN(bis[3],y_train,epochs,weights2,verbose =verbose)\n",
    "        #print(model3.evaluate(bis[3],y_hot))\n",
    "\n",
    "\n",
    "        n_classes = len(set(y_train))\n",
    "        y_hot=tf.one_hot(y_train,depth=n_classes)\n",
    "        y_hot=np.array(y_hot)\n",
    "        data = X_test\n",
    "        d_test=itek_barycentrics(data,bar_iterations)\n",
    "        bis_test = [bis_cons(d_test,ite,dim) for ite in range(bar_iterations+1)]\n",
    "        yt_hot=tf.one_hot(y_test,depth=n_classes)\n",
    "        yt_hot=np.array(yt_hot)\n",
    "        print(\"Evaluation on test\")\n",
    "        print(\"Model 0\")\n",
    "        m=model0.evaluate(bis_test[0],yt_hot)\n",
    "        metrics0_l.append(m[0])\n",
    "        metrics0_a.append(m[1])\n",
    "        print(\"Model 1\")\n",
    "        m=model1.evaluate(bis_test[1],yt_hot)\n",
    "        metrics1_l.append(m[0])\n",
    "        metrics1_a.append(m[1])\n",
    "        print(\"Model 2\")\n",
    "        m=model2.evaluate(bis_test[2],yt_hot)\n",
    "        metrics2_l.append(m[0])\n",
    "        metrics2_a.append(m[1])\n",
    "        #print(\"Model 3\")\n",
    "        #model3.evaluate(bis_test[3],yt_hot)\n",
    "        print(\"---------------\\n\")\n",
    "        metrics_a.append([metrics0_a,metrics1_a,metrics2_a])\n",
    "        metrics_l.append([metrics0_l,metrics1_l,metrics2_l])\n"
   ]
  },
  {
   "cell_type": "code",
   "execution_count": 26,
   "id": "2f04cc89",
   "metadata": {},
   "outputs": [
    {
     "data": {
      "text/plain": [
       "[[[0.8399999737739563], [0.8399999737739563], [0.8399999737739563]],\n",
       " [[0.8899999856948853], [0.8899999856948853], [0.8799999952316284]],\n",
       " [[0.8899999856948853], [0.8700000047683716], [0.8700000047683716]]]"
      ]
     },
     "execution_count": 26,
     "metadata": {},
     "output_type": "execute_result"
    }
   ],
   "source": [
    "metrics_a"
   ]
  },
  {
   "cell_type": "code",
   "execution_count": 27,
   "id": "55a6bd66",
   "metadata": {},
   "outputs": [
    {
     "data": {
      "text/plain": [
       "[[[0.40414202213287354], [0.39317190647125244], [0.3832445442676544]],\n",
       " [[0.38511744141578674], [0.3472175896167755], [0.24259452521800995]],\n",
       " [[0.35323160886764526], [0.4325278103351593], [0.7546022534370422]]]"
      ]
     },
     "execution_count": 27,
     "metadata": {},
     "output_type": "execute_result"
    }
   ],
   "source": [
    "metrics_l"
   ]
  },
  {
   "cell_type": "code",
   "execution_count": null,
   "id": "76cd5ec7",
   "metadata": {},
   "outputs": [],
   "source": []
  }
 ],
 "metadata": {
  "kernelspec": {
   "display_name": "Python 3 (ipykernel)",
   "language": "python",
   "name": "python3"
  },
  "language_info": {
   "codemirror_mode": {
    "name": "ipython",
    "version": 3
   },
   "file_extension": ".py",
   "mimetype": "text/x-python",
   "name": "python",
   "nbconvert_exporter": "python",
   "pygments_lexer": "ipython3",
   "version": "3.8.15"
  }
 },
 "nbformat": 4,
 "nbformat_minor": 5
}
